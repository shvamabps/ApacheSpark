{
 "cells": [
  {
   "cell_type": "code",
   "execution_count": 1,
   "metadata": {},
   "outputs": [],
   "source": [
    "#  importing findspark &  initialize findspark \n",
    "import findspark \n",
    "findspark.init('/opt/spark')"
   ]
  },
  {
   "cell_type": "code",
   "execution_count": 2,
   "metadata": {},
   "outputs": [],
   "source": [
    "# importing pyspark and SparkContext and initialing sparkcontext\n",
    "import pyspark\n",
    "from pyspark import SparkContext\n",
    "sc = SparkContext()"
   ]
  },
  {
   "cell_type": "code",
   "execution_count": 3,
   "metadata": {},
   "outputs": [
    {
     "data": {
      "text/plain": [
       "14"
      ]
     },
     "execution_count": 3,
     "metadata": {},
     "output_type": "execute_result"
    }
   ],
   "source": [
    "# reduce() action\n",
    "# used for aggregating the elements of RDD\n",
    "# it is commutative and associative\n",
    "x = [1,3,4,6]\n",
    "RDD = sc.parallelize(x)\n",
    "RDD.reduce(lambda x, y : x + y)"
   ]
  },
  {
   "cell_type": "code",
   "execution_count": 4,
   "metadata": {},
   "outputs": [],
   "source": [
    "# sometimes it is not a good option to run collect() \n",
    "# as the data can be huge \n",
    "# so saveAsTextFile() action is used\n",
    "# saveAsTextFile() action saves RDD into a text file inside the \n",
    "# dir with each partition  as a sepearte file\n",
    "\n",
    "RDD.saveAsTextFile(\"tempFile\")"
   ]
  },
  {
   "cell_type": "code",
   "execution_count": 5,
   "metadata": {},
   "outputs": [],
   "source": [
    "# coalesce() method is used to save a RDD in a single file\n",
    "RDD.coalesce(1).saveAsTextFile(\"tempFile1\")\n",
    "RDD.coalesce(2).saveAsTextFile(\"tempFile2\")"
   ]
  },
  {
   "cell_type": "code",
   "execution_count": 7,
   "metadata": {},
   "outputs": [
    {
     "name": "stdout",
     "output_type": "stream",
     "text": [
      "a 2\n",
      "b 1\n"
     ]
    }
   ],
   "source": [
    "# ------ Action Operations On Pair RDDs ------\n",
    "# pair rdd actions leverage the key-value data\n",
    "# few example\n",
    "# countByKey() -> only available for RDDs of type (K,V)\n",
    "# i.e (key,value)\n",
    "# it is used to count the number of elements for each key\n",
    "# example \n",
    "# cointByKey() Action\n",
    "rdd = sc.parallelize([(\"a\" , 1), (\"b\" , 2), (\"a\" , 1)])\n",
    "for kee, val in rdd.countByKey().items():\n",
    "    print(kee, val)"
   ]
  },
  {
   "cell_type": "code",
   "execution_count": 10,
   "metadata": {},
   "outputs": [
    {
     "data": {
      "text/plain": [
       "{1: 2, 3: 4}"
      ]
     },
     "execution_count": 10,
     "metadata": {},
     "output_type": "execute_result"
    }
   ],
   "source": [
    "# CollectAsMap() action\n",
    "sc.parallelize([(1,2), (3,4)]).collectAsMap()\n",
    "# prints as dictionary"
   ]
  },
  {
   "cell_type": "code",
   "execution_count": 11,
   "metadata": {},
   "outputs": [
    {
     "data": {
      "text/plain": [
       "defaultdict(int, {'a': 3, 'b': 1, 'c': 1})"
      ]
     },
     "execution_count": 11,
     "metadata": {},
     "output_type": "execute_result"
    }
   ],
   "source": [
    "rdd = sc.parallelize([(\"a\",1), (\"b\",2), (\"a\",3),(\"c\",6),(\"a\",5)])\n",
    "new_rdd = rdd.countByKey()  # returns number of keys count.\n",
    "new_rdd"
   ]
  },
  {
   "cell_type": "code",
   "execution_count": 12,
   "metadata": {},
   "outputs": [
    {
     "name": "stdout",
     "output_type": "stream",
     "text": [
      "a 3\n",
      "b 1\n",
      "c 1\n"
     ]
    }
   ],
   "source": [
    "# Printing in better way\n",
    "for key, value in new_rdd.items():\n",
    "    print(key,value)"
   ]
  },
  {
   "cell_type": "code",
   "execution_count": 13,
   "metadata": {},
   "outputs": [
    {
     "name": "stdout",
     "output_type": "stream",
     "text": [
      "{'a': 5, 'b': 2, 'c': 6}\n"
     ]
    },
    {
     "data": {
      "text/plain": [
       "dict"
      ]
     },
     "execution_count": 13,
     "metadata": {},
     "output_type": "execute_result"
    }
   ],
   "source": [
    "\n",
    "# Applying collectAsMap() action.\n",
    "# This will return the pair RDD in dictionary format. Default is list.\n",
    "new_rdd = rdd.collectAsMap()  \n",
    "print(new_rdd)\n",
    "type(new_rdd)"
   ]
  },
  {
   "cell_type": "code",
   "execution_count": 14,
   "metadata": {},
   "outputs": [
    {
     "name": "stdout",
     "output_type": "stream",
     "text": [
      "[('a', 1), ('b', 2), ('a', 3), ('c', 6), ('a', 5)]\n"
     ]
    },
    {
     "data": {
      "text/plain": [
       "list"
      ]
     },
     "execution_count": 14,
     "metadata": {},
     "output_type": "execute_result"
    }
   ],
   "source": [
    "# Default collect() action.\n",
    "# Return value as list\n",
    "new_rdd = rdd.collect()\n",
    "print(new_rdd)\n",
    "type(new_rdd)\n"
   ]
  },
  {
   "cell_type": "code",
   "execution_count": null,
   "metadata": {},
   "outputs": [],
   "source": []
  }
 ],
 "metadata": {
  "kernelspec": {
   "display_name": "Python 3",
   "language": "python",
   "name": "python3"
  },
  "language_info": {
   "codemirror_mode": {
    "name": "ipython",
    "version": 3
   },
   "file_extension": ".py",
   "mimetype": "text/x-python",
   "name": "python",
   "nbconvert_exporter": "python",
   "pygments_lexer": "ipython3",
   "version": "3.7.3"
  }
 },
 "nbformat": 4,
 "nbformat_minor": 2
}
