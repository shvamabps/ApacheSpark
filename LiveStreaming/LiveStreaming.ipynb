{
 "cells": [
  {
   "cell_type": "code",
   "execution_count": 1,
   "metadata": {},
   "outputs": [],
   "source": [
    "# Importing Pyspark\n",
    "import pyspark\n",
    "from pyspark import SparkContext\n",
    "\n",
    "# Importing StreamingContext i.e., Entry point for all streaming functionalities\n",
    "from pyspark.streaming import StreamingContext"
   ]
  },
  {
   "cell_type": "code",
   "execution_count": 2,
   "metadata": {},
   "outputs": [],
   "source": [
    "# Now we create a local streaming context with 2 execution threads and batch interval of 1 second.\n",
    "sc = SparkContext(\"local[2]\", \"NWC\")\n",
    "ssc = StreamingContext(sc,1)"
   ]
  },
  {
   "cell_type": "code",
   "execution_count": 3,
   "metadata": {},
   "outputs": [],
   "source": [
    "# Now we are creating a DStream, that will listen to the TCP socket with port 9999\n",
    "lines = ssc.socketTextStream(\"localhost\",9999)"
   ]
  },
  {
   "cell_type": "code",
   "execution_count": 4,
   "metadata": {},
   "outputs": [],
   "source": [
    "# Performing word count by splitting, mapping and reducing.. \n",
    "words = lines.flatMap(lambda line: line.split(\" \"))\n",
    "pair = words.map(lambda word: (word,1))\n",
    "wc = pair.reduceByKey(lambda x,y: x+y)\n",
    "wc.pprint()  # To print the DStream type object we use pprint()"
   ]
  },
  {
   "cell_type": "code",
   "execution_count": 1,
   "metadata": {},
   "outputs": [],
   "source": [
    "# Now plotting the graph of the word count..\n",
    "import matplotlib.pyplot as plt\n",
    "\n",
    "# Here we are defining a function that takes input as (time, rdd) sent by DStream object. \n",
    "# DStream object is a collection of RDDs (time+rdd)\n",
    "def process(time,rdd):\n",
    "    words=[]\n",
    "    counts=[]\n",
    "    for x in rdd.collect():\n",
    "        words.append(x[0])\n",
    "        counts.append(x[1])\n",
    "    if len(words)>0 :\n",
    "        plt.bar(words,counts)\n",
    "        plt.show()\n"
   ]
  },
  {
   "cell_type": "code",
   "execution_count": null,
   "metadata": {},
   "outputs": [],
   "source": []
  }
 ],
 "metadata": {
  "kernelspec": {
   "display_name": "Python 3",
   "language": "python",
   "name": "python3"
  },
  "language_info": {
   "codemirror_mode": {
    "name": "ipython",
    "version": 3
   },
   "file_extension": ".py",
   "mimetype": "text/x-python",
   "name": "python",
   "nbconvert_exporter": "python",
   "pygments_lexer": "ipython3",
   "version": "3.7.3"
  }
 },
 "nbformat": 4,
 "nbformat_minor": 2
}
